{
 "cells": [
  {
   "cell_type": "code",
   "execution_count": 1,
   "metadata": {},
   "outputs": [],
   "source": [
    "import logging\n",
    "import os\n",
    "import sys\n",
    "import uuid\n",
    "from contextlib import closing\n",
    "\n",
    "import yaml\n",
    "from snowflake.connector import connect\n",
    "\n",
    "logger = logging.getLogger(__name__)\n",
    "logger.setLevel(logging.INFO)\n",
    "stream = logging.StreamHandler()\n",
    "logger.addHandler(stream)"
   ]
  },
  {
   "cell_type": "code",
   "execution_count": 2,
   "metadata": {},
   "outputs": [],
   "source": [
    "from snowflake_api import *"
   ]
  },
  {
   "cell_type": "code",
   "execution_count": 3,
   "metadata": {},
   "outputs": [],
   "source": [
    "from utils import *"
   ]
  },
  {
   "cell_type": "code",
   "execution_count": null,
   "metadata": {},
   "outputs": [],
   "source": [
    "sf_config = get_app_config({})"
   ]
  },
  {
   "cell_type": "code",
   "execution_count": null,
   "metadata": {},
   "outputs": [],
   "source": [
    "base_name = sf_config[\"subject\"]"
   ]
  },
  {
   "cell_type": "code",
   "execution_count": null,
   "metadata": {},
   "outputs": [],
   "source": [
    "[f'{base_name}_{x}' for x in sf_config['extra_databases']]"
   ]
  },
  {
   "cell_type": "code",
   "execution_count": null,
   "metadata": {},
   "outputs": [],
   "source": [
    "sf = SnowflakeApi(sf_config, debug=False)"
   ]
  },
  {
   "cell_type": "code",
   "execution_count": null,
   "metadata": {},
   "outputs": [],
   "source": [
    "sf.run_sql('use role securityadmin')"
   ]
  },
  {
   "cell_type": "code",
   "execution_count": null,
   "metadata": {},
   "outputs": [],
   "source": [
    "sf.run_sql('use role securityadmin;')\n",
    "sf.create_role('testrole_jschroeder')"
   ]
  },
  {
   "cell_type": "code",
   "execution_count": null,
   "metadata": {},
   "outputs": [],
   "source": [
    "sf.run_sql('use role securityadmin;')\n",
    "sf.grant_to_role('database', 'itsecurity_test', 'testrole', 'usage')"
   ]
  },
  {
   "cell_type": "code",
   "execution_count": null,
   "metadata": {},
   "outputs": [],
   "source": [
    "sf.grant_to_role('testrole','role','sysadmin')"
   ]
  },
  {
   "cell_type": "code",
   "execution_count": null,
   "metadata": {},
   "outputs": [],
   "source": [
    "base_name = sf_config[\"subject\"]\n",
    "print(\"Creating warehouse\")\n",
    "whse = WarehouseApi(sf_config)\n",
    "for warehouse in sf_config[\"warehouse_types\"]:\n",
    "    warehouse_name = sf_config[\"subject\"] + warehouse\n",
    "    wh_create_query = whse.create(whse_name=warehouse_name, **sf_config)\n",
    "    print(wh_create_query)\n",
    "\n",
    "print(\"Creating database and schema(s)\")\n",
    "db = DatabaseApi(sf_config)\n",
    "prod_db = f\"{base_name}_PROD\"\n",
    "prod_db_create = db.create(db_name=prod_db, schemas=[\"PROJECT\", \"GLOBAL\", \"ANALYSIS\"])\n",
    "print(prod_db_create)\n",
    "for database in sf_config[\"extra_databases\"]:\n",
    "    db_clone_query = db.clone(\n",
    "        source_db=prod_db, target_db=f\"{base_name}_{database}\"\n",
    "    )\n",
    "    print(db_clone_query)"
   ]
  },
  {
   "cell_type": "code",
   "execution_count": null,
   "metadata": {},
   "outputs": [],
   "source": [
    "acct = AccountApi(sf_config)\n",
    "print(acct.create_user(name=\"TESTUSER\"))"
   ]
  },
  {
   "cell_type": "code",
   "execution_count": null,
   "metadata": {},
   "outputs": [],
   "source": [
    "acct = AccountApi(sf_config)\n",
    "for account in sf_config[\"warehouse_types\"]:\n",
    "    role_name = f\"{sf_config['subject']}{account}\"\n",
    "    user_name = f\"{sf_config['subject']}_{account}\"\n",
    "    print(acct.create_user(name=user_name))\n",
    "    print(acct.create_role(name=role_name))"
   ]
  },
  {
   "cell_type": "code",
   "execution_count": null,
   "metadata": {},
   "outputs": [],
   "source": [
    "for account in sf_config[\"warehouse_types\"]:\n",
    "    user_name = f\"{sf_config['subject']}_{account}\"\n",
    "    print(acct.create_user(name=user_name))\n",
    "    role_name = f\"{sf_config['subject']}{account}\"\n",
    "    print(acct.create_role(name=role_name))\n",
    "    print(\n",
    "        acct.grant(\n",
    "            object_type=\"role\",\n",
    "            object_name=role_name,\n",
    "            grantee_type=\"user\",\n",
    "            grantee=user_name,\n",
    "        )\n",
    "    )"
   ]
  },
  {
   "cell_type": "code",
   "execution_count": null,
   "metadata": {},
   "outputs": [],
   "source": [
    "extras = [\"DEV\", \"TEST\"]"
   ]
  },
  {
   "cell_type": "code",
   "execution_count": null,
   "metadata": {},
   "outputs": [],
   "source": [
    "extras"
   ]
  },
  {
   "cell_type": "code",
   "execution_count": null,
   "metadata": {},
   "outputs": [],
   "source": [
    "[f\"TEST_{x}\" for x in extras]"
   ]
  },
  {
   "cell_type": "code",
   "execution_count": null,
   "metadata": {},
   "outputs": [],
   "source": [
    "subject = 'TEST'\n",
    "primary = 'PROD'\n",
    "primary_database = f\"{subject}_{primary}\"\n",
    "extra_databases = [f\"{subject}_{x}\" for x in extras]"
   ]
  },
  {
   "cell_type": "code",
   "execution_count": null,
   "metadata": {},
   "outputs": [],
   "source": [
    "extra_databases"
   ]
  },
  {
   "cell_type": "code",
   "execution_count": 4,
   "metadata": {},
   "outputs": [
    {
     "name": "stderr",
     "output_type": "stream",
     "text": [
      "Reading App Config from snowflake_config.yaml\n",
      "Config values to be used: {'user': 'NEW_PROJECT_SERVICE', 'password': '6339ABBe-2da1-11ea-ba83-b831b5996c28', 'new_user_pwd': 'Strongpassword979', 'azure_account': 'abcsupply.east-us-2.azure', 'subject': 'TEST', 'admin_account': 'WRITER', 'standard_accounts': ['VIEWER'], 'primary_database': 'PROD', 'extra_databases': ['DEV', 'TEST'], 'database_schemas': ['PROJECT', 'GLOBAL', 'ANALYSIS'], 'warehouse_size': 'X-Small', 'auto_suspend': 300, 'auto_resume': True, 'min_cluster_count': 1, 'max_cluster_count': 2, 'initially_suspended': True}\n"
     ]
    }
   ],
   "source": [
    "sf_config = get_app_config({})\n",
    "sf_config = set_default_args(sf_config)\n",
    "project_config = create_db_names(sf_config)"
   ]
  },
  {
   "cell_type": "code",
   "execution_count": 6,
   "metadata": {},
   "outputs": [
    {
     "data": {
      "text/plain": [
       "{'primary_database': 'TEST_PROD',\n",
       " 'extra_databases': ['TEST_DEV', 'TEST_TEST'],\n",
       " 'admin_role': 'TESTWRITER',\n",
       " 'admin_user': 'TEST_WRITER',\n",
       " 'standard_roles': ['TESTVIEWER'],\n",
       " 'standard_users': ['TEST_VIEWER'],\n",
       " 'all_databases': ['TEST_DEV', 'TEST_TEST', 'TEST_PROD'],\n",
       " 'all_roles': ['TESTVIEWER', 'TESTWRITER'],\n",
       " 'all_users': ['TEST_VIEWER', 'TEST_WRITER'],\n",
       " 'all_warehouses': ['TEST_VIEWER', 'TEST_WRITER']}"
      ]
     },
     "execution_count": 6,
     "metadata": {},
     "output_type": "execute_result"
    }
   ],
   "source": [
    "project_config"
   ]
  },
  {
   "cell_type": "code",
   "execution_count": 9,
   "metadata": {},
   "outputs": [
    {
     "name": "stdout",
     "output_type": "stream",
     "text": [
      "user:  TEST_VIEWER role:  TESTVIEWER warehouse:  TEST_VIEWER\n",
      "user:  TEST_WRITER role:  TESTWRITER warehouse:  TEST_WRITER\n"
     ]
    }
   ],
   "source": [
    "for x, y, z in zip(\n",
    "    project_config[\"all_users\"],\n",
    "    project_config[\"all_roles\"],\n",
    "    project_config[\"all_warehouses\"],\n",
    "):\n",
    "    print(\"user: \", x, \"role: \", y,\"warehouse: \", z)"
   ]
  },
  {
   "cell_type": "code",
   "execution_count": null,
   "metadata": {},
   "outputs": [],
   "source": [
    "project_config[\"admin_role\"]"
   ]
  },
  {
   "cell_type": "code",
   "execution_count": null,
   "metadata": {},
   "outputs": [],
   "source": [
    "project_config[\"all_roles\"] = [x for x in project_config[\"standard_roles\"]]"
   ]
  },
  {
   "cell_type": "code",
   "execution_count": null,
   "metadata": {},
   "outputs": [],
   "source": [
    "project_config[\"all_roles\"].append(project_config[\"admin_role\"])"
   ]
  },
  {
   "cell_type": "code",
   "execution_count": null,
   "metadata": {},
   "outputs": [],
   "source": [
    "project_config[\"all_roles\"]"
   ]
  },
  {
   "cell_type": "code",
   "execution_count": null,
   "metadata": {},
   "outputs": [],
   "source": [
    "type(project_config[\"standard_roles\"])"
   ]
  },
  {
   "cell_type": "code",
   "execution_count": null,
   "metadata": {},
   "outputs": [],
   "source": [
    "[x for x in project_config[\"standard_roles\"]].append(project_config[\"admin_role\"])"
   ]
  },
  {
   "cell_type": "code",
   "execution_count": null,
   "metadata": {},
   "outputs": [],
   "source": [
    "project_config = {}"
   ]
  },
  {
   "cell_type": "code",
   "execution_count": null,
   "metadata": {},
   "outputs": [],
   "source": [
    "base_name = sf_config[\"subject\"]"
   ]
  },
  {
   "cell_type": "code",
   "execution_count": null,
   "metadata": {},
   "outputs": [],
   "source": [
    "project_config[\"primary_database\"] = f\"{base_name}_{sf_config['primary_database']}\"\n",
    "project_config[\"extra_databases\"] = [\n",
    "    f\"{base_name}_{x}\" for x in sf_config[\"extra_databases\"]\n",
    "]"
   ]
  },
  {
   "cell_type": "code",
   "execution_count": null,
   "metadata": {},
   "outputs": [],
   "source": [
    "project_config"
   ]
  },
  {
   "cell_type": "code",
   "execution_count": null,
   "metadata": {},
   "outputs": [],
   "source": []
  }
 ],
 "metadata": {
  "kernelspec": {
   "display_name": "Python 3",
   "language": "python",
   "name": "python3"
  },
  "language_info": {
   "codemirror_mode": {
    "name": "ipython",
    "version": 3
   },
   "file_extension": ".py",
   "mimetype": "text/x-python",
   "name": "python",
   "nbconvert_exporter": "python",
   "pygments_lexer": "ipython3",
   "version": "3.7.3"
  }
 },
 "nbformat": 4,
 "nbformat_minor": 4
}
